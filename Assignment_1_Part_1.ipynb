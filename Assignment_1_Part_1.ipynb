{
  "nbformat": 4,
  "nbformat_minor": 0,
  "metadata": {
    "colab": {
      "name": "Assignment 1 - Part 1.ipynb",
      "provenance": [],
      "collapsed_sections": [],
      "authorship_tag": "ABX9TyPxN5aMNYewhAFaOIqMfIbi",
      "include_colab_link": true
    },
    "kernelspec": {
      "name": "python3",
      "display_name": "Python 3"
    },
    "accelerator": "GPU"
  },
  "cells": [
    {
      "cell_type": "markdown",
      "metadata": {
        "id": "view-in-github",
        "colab_type": "text"
      },
      "source": [
        "<a href=\"https://colab.research.google.com/github/LSENeutralNetwork/Artificial-Intelligence-Deep-Learning/blob/master/Assignment_1_Part_1.ipynb\" target=\"_parent\"><img src=\"https://colab.research.google.com/assets/colab-badge.svg\" alt=\"Open In Colab\"/></a>"
      ]
    },
    {
      "cell_type": "markdown",
      "metadata": {
        "id": "Y4xnH4dN5zy8",
        "colab_type": "text"
      },
      "source": [
        "# Question 1\n",
        "Candidate Number: 43335"
      ]
    },
    {
      "cell_type": "markdown",
      "metadata": {
        "id": "rZoGdpGUQnqt",
        "colab_type": "text"
      },
      "source": [
        "**Task:** evaluate and plot the average loss per epoch versus the number of epoches for the training dataset, for the following optimization algorithms:\n",
        "\n",
        "*   Mini-batch gradient descent\n",
        "*   Mini-batch AdaGrad\n",
        "*   Mini-batch gradient descent with Nesterov’s momentum (momentum = 0.7)\n",
        "*   Mini-batch Adam"
      ]
    },
    {
      "cell_type": "markdown",
      "metadata": {
        "id": "x70sdD1epPqd",
        "colab_type": "text"
      },
      "source": [
        "# 1.1 Load TensorFlow and Libraries"
      ]
    },
    {
      "cell_type": "code",
      "metadata": {
        "id": "chYriA5B5yON",
        "colab_type": "code",
        "outputId": "53f65468-3b38-409b-d7d3-af4122e557f0",
        "colab": {
          "base_uri": "https://localhost:8080/",
          "height": 63
        }
      },
      "source": [
        "# Load Correct Version of TensorFlow\n",
        "import tensorflow as tf\n",
        "%tensorflow_version 1.x\n",
        "tf.logging.set_verbosity(tf.logging.INFO)\n",
        "\n",
        "# Load Libraries, Data and Set Seed\n",
        "from tensorflow.examples.tutorials.mnist import input_data\n",
        "import numpy as np\n",
        "import matplotlib.pyplot as plt\n",
        "import math\n",
        "np.random.seed(1)"
      ],
      "execution_count": 0,
      "outputs": [
        {
          "output_type": "display_data",
          "data": {
            "text/html": [
              "<p style=\"color: red;\">\n",
              "The default version of TensorFlow in Colab will soon switch to TensorFlow 2.x.<br>\n",
              "We recommend you <a href=\"https://www.tensorflow.org/guide/migrate\" target=\"_blank\">upgrade</a> now \n",
              "or ensure your notebook will continue to use TensorFlow 1.x via the <code>%tensorflow_version 1.x</code> magic:\n",
              "<a href=\"https://colab.research.google.com/notebooks/tensorflow_version.ipynb\" target=\"_blank\">more info</a>.</p>\n"
            ],
            "text/plain": [
              "<IPython.core.display.HTML object>"
            ]
          },
          "metadata": {
            "tags": []
          }
        }
      ]
    },
    {
      "cell_type": "markdown",
      "metadata": {
        "id": "mOTaDR6gpVca",
        "colab_type": "text"
      },
      "source": [
        "# 1.2 Functions for Plot Loss and MNIST Classification"
      ]
    },
    {
      "cell_type": "code",
      "metadata": {
        "id": "kiZ2yDKkevmw",
        "colab_type": "code",
        "colab": {}
      },
      "source": [
        "# Functions\n",
        "def plot_loss(lossGD, lossADA, lossNest, lossAdam):\n",
        "  plt.plot(lossGD, label='Gradient Descent')\n",
        "  plt.plot(lossADA, label='AdaGrad')\n",
        "  plt.plot(lossNest, label='GD with Nesterovs Momentum')\n",
        "  plt.plot(lossAdam, label='Adam')\n",
        "  plt.xlabel('Number of Epoches')\n",
        "  plt.ylabel('Cross Entropy Loss')\n",
        "  plt.title('Average Loss per Epoch for Different Optimisers')\n",
        "  plt.legend()\n",
        "  plt.show()\n",
        "\n",
        "def MNIST_classification(num_epoches):\n",
        "  # Read the MNIST Data\n",
        "  mnist = input_data.read_data_sets(\"mnist\", one_hot=False)\n",
        "  \n",
        "  # Import Training and Test Sets and the Coresponding Labels\n",
        "  training_set = mnist.train.images\n",
        "  training_labels = np.asarray(mnist.train.labels, dtype=np.int32)\n",
        "  test_set = mnist.test.images\n",
        "  test_labels = np.asarray(mnist.test.labels, dtype=np.int32)\n",
        "\n",
        "  # Set Hyper-parameters\n",
        "  x_dim = 784\n",
        "  num_classes = 10\n",
        "  batch_size = 128\n",
        "  num_epoches = num_epoches # 45 in this problem\n",
        "  n_batches = np.floor(mnist.train.num_examples/ batch_size).astype(int)\n",
        "  starting_learning_rate = 0.001\n",
        "  momentum = 0.7\n",
        "  lambdaweight = 0.01\n",
        "  # Set Random Value Initialisers\n",
        "  init_w = tf.constant(np.random.randn(x_dim, num_classes) * 0.1, dtype=tf.float32)\n",
        "  init_b = tf.constant(np.random.randn(num_classes) * 0.1, dtype=tf.float32)\n",
        "\n",
        "  # Set Variable Scope\n",
        "  with tf.variable_scope('main', reuse=tf.AUTO_REUSE):\n",
        "    # Placeholders\n",
        "    x = tf.placeholder(tf.float32, [batch_size, x_dim])\n",
        "    y = tf.placeholder(tf.int32, [batch_size,])\n",
        "    learning_rate = tf.placeholder(tf.float32)\n",
        "    # Variables\n",
        "    w = tf.get_variable(name='w', initializer=init_w, dtype=tf.float32)\n",
        "    b = tf.get_variable(name='b', initializer=init_b, dtype=tf.float32)\n",
        "    # Define Model\n",
        "    logits = tf.add(tf.matmul(x, w), b)\n",
        "    # Define L2 Regularized Loss\n",
        "    normal_loss = tf.reduce_mean(tf.nn.sparse_softmax_cross_entropy_with_logits(labels=y, logits=logits))\n",
        "    L2regularizer = tf.nn.l2_loss(w)\n",
        "    reg_loss = normal_loss + lambdaweight * L2regularizer\n",
        "    # Optimisers using Regularized Loss\n",
        "    optimiserGD = tf.train.GradientDescentOptimizer(learning_rate).minimize(reg_loss)\n",
        "    optimiserADA = tf.train.AdagradOptimizer(learning_rate, name='Adagrad').minimize(reg_loss)\n",
        "    optimiserNest = tf.train.MomentumOptimizer(learning_rate, momentum=momentum, use_nesterov=True, name='Momentum').minimize(reg_loss)\n",
        "    optimiserAdam = tf.train.AdamOptimizer(learning_rate).minimize(reg_loss)\n",
        "\n",
        "  # Calculating Average Loss per Epoch for 4 Optimizers\n",
        "\n",
        "  # Track Average Loss per Epoch in a list\n",
        "  avg_loss_list = []\n",
        "\n",
        "  # Optimiser For Loop\n",
        "  for optimiser in [optimiserGD, optimiserADA, optimiserNest, optimiserAdam]:\n",
        "    with tf.Session() as sess:\n",
        "      # Initialise global variables\n",
        "      sess.run(tf.global_variables_initializer())\n",
        "      # Initialise local variables\n",
        "      sess.run(tf.local_variables_initializer())\n",
        "      print(\"Start\", optimiser)\n",
        "      # Epoch For Loop\n",
        "      for epoch in range(num_epoches):\n",
        "        new_lr = starting_learning_rate / math.sqrt(epoch+1)\n",
        "        loss_within_epoch = []\n",
        "        # Minibatch For Loop\n",
        "        for minibatch in range(n_batches):\n",
        "          batch_x, batch_y = mnist.train.next_batch(batch_size)\n",
        "          _, l = sess.run([optimiser, reg_loss], feed_dict={x: batch_x, y: batch_y, learning_rate: new_lr})\n",
        "          loss_within_epoch.append(l)\n",
        "            \n",
        "        avg_loss_list.append(np.mean(loss_within_epoch))\n",
        "        if ((epoch + 1) % 5 == 0):\n",
        "          print(\"Epoch:\", (epoch + 1), \"average loss =\", \"{:.3f}\".format(np.mean(loss_within_epoch)))\n",
        "\n",
        "  # Reshape the loss list to discern between the 4 different optimisers\n",
        "  avg_loss_list = np.reshape(avg_loss_list, (-1, num_epoches))\n",
        "  # Plot the average loss per epoch for the 4 different optimisers\n",
        "  plot_loss(avg_loss_list[0, :], avg_loss_list[1, :], avg_loss_list[2, :], avg_loss_list[3, :])\n",
        "\n",
        "  return avg_loss_list"
      ],
      "execution_count": 0,
      "outputs": []
    },
    {
      "cell_type": "markdown",
      "metadata": {
        "id": "OzYeOgBCpazu",
        "colab_type": "text"
      },
      "source": [
        "# 1.3 Call Function and Analyse Plot for Average Loss per Epoch"
      ]
    },
    {
      "cell_type": "markdown",
      "metadata": {
        "id": "xUMK5QAXmbk6",
        "colab_type": "text"
      },
      "source": [
        "I'm printing average loss per epoch for each 5th epoch and then a plot is made for the average loss per epoch for the 4 different optimisers:"
      ]
    },
    {
      "cell_type": "code",
      "metadata": {
        "id": "cqHD1U-zxEES",
        "colab_type": "code",
        "outputId": "0e47154c-5601-42dc-bc3f-08e90dfd8f4a",
        "colab": {
          "base_uri": "https://localhost:8080/",
          "height": 1000
        }
      },
      "source": [
        "# MNIST classification using multi-class logistic regression\n",
        "MNIST_loss_list = MNIST_classification(45)"
      ],
      "execution_count": 0,
      "outputs": [
        {
          "output_type": "stream",
          "text": [
            "Extracting mnist/train-images-idx3-ubyte.gz\n",
            "Extracting mnist/train-labels-idx1-ubyte.gz\n",
            "Extracting mnist/t10k-images-idx3-ubyte.gz\n",
            "Extracting mnist/t10k-labels-idx1-ubyte.gz\n",
            "Start name: \"main_1/GradientDescent\"\n",
            "op: \"NoOp\"\n",
            "input: \"^main_1/GradientDescent/update_main/w/ApplyGradientDescent\"\n",
            "input: \"^main_1/GradientDescent/update_main/b/ApplyGradientDescent\"\n",
            "\n",
            "Epoch: 5 average loss = 1.912\n",
            "Epoch: 10 average loss = 1.634\n",
            "Epoch: 15 average loss = 1.496\n",
            "Epoch: 20 average loss = 1.409\n",
            "Epoch: 25 average loss = 1.350\n",
            "Epoch: 30 average loss = 1.305\n",
            "Epoch: 35 average loss = 1.269\n",
            "Epoch: 40 average loss = 1.237\n",
            "Epoch: 45 average loss = 1.212\n",
            "Start name: \"main_1/Adagrad\"\n",
            "op: \"NoOp\"\n",
            "input: \"^main_1/Adagrad/update_main/w/ApplyAdagrad\"\n",
            "input: \"^main_1/Adagrad/update_main/b/ApplyAdagrad\"\n",
            "\n",
            "Epoch: 5 average loss = 1.713\n",
            "Epoch: 10 average loss = 1.523\n",
            "Epoch: 15 average loss = 1.433\n",
            "Epoch: 20 average loss = 1.375\n",
            "Epoch: 25 average loss = 1.333\n",
            "Epoch: 30 average loss = 1.305\n",
            "Epoch: 35 average loss = 1.278\n",
            "Epoch: 40 average loss = 1.255\n",
            "Epoch: 45 average loss = 1.240\n",
            "Start name: \"main_1/Momentum\"\n",
            "op: \"NoOp\"\n",
            "input: \"^main_1/Momentum/update_main/w/ApplyMomentum\"\n",
            "input: \"^main_1/Momentum/update_main/b/ApplyMomentum\"\n",
            "\n",
            "Epoch: 5 average loss = 1.283\n",
            "Epoch: 10 average loss = 1.112\n",
            "Epoch: 15 average loss = 1.041\n",
            "Epoch: 20 average loss = 0.993\n",
            "Epoch: 25 average loss = 0.964\n",
            "Epoch: 30 average loss = 0.939\n",
            "Epoch: 35 average loss = 0.920\n",
            "Epoch: 40 average loss = 0.905\n",
            "Epoch: 45 average loss = 0.889\n",
            "Start name: \"main_1/Adam\"\n",
            "op: \"NoOp\"\n",
            "input: \"^main_1/Adam/update_main/w/ApplyAdam\"\n",
            "input: \"^main_1/Adam/update_main/b/ApplyAdam\"\n",
            "input: \"^main_1/Adam/Assign\"\n",
            "input: \"^main_1/Adam/Assign_1\"\n",
            "\n",
            "Epoch: 5 average loss = 0.565\n",
            "Epoch: 10 average loss = 0.556\n",
            "Epoch: 15 average loss = 0.553\n",
            "Epoch: 20 average loss = 0.550\n",
            "Epoch: 25 average loss = 0.546\n",
            "Epoch: 30 average loss = 0.547\n",
            "Epoch: 35 average loss = 0.551\n",
            "Epoch: 40 average loss = 0.550\n",
            "Epoch: 45 average loss = 0.548\n"
          ],
          "name": "stdout"
        },
        {
          "output_type": "display_data",
          "data": {
            "image/png": "[encoded data removed]",
            "text/plain": [
              "<Figure size 432x288 with 1 Axes>"
            ]
          },
          "metadata": {
            "tags": []
          }
        }
      ]
    },
    {
      "cell_type": "markdown",
      "metadata": {
        "id": "3TawQoRo57ja",
        "colab_type": "text"
      },
      "source": [
        "**Question**: Discuss how the performances of different optimization algorithms compare to each other.\n",
        "\n",
        "**Answer**: \n",
        "- As can be inferred from the plot, the Adam optimiser performs the best with high reduction in loss at the start and a flattening decrease rate around epoch 5 (depending on the learning rate). Compared to the other three optimisers, the Adam optimiser seems superior as it both starts and ends and ends with a lower loss than the other three.\n",
        "\n",
        "- The Gradient Descent with Nesterov's Momentum (=0.7) has the next best performance. While starting out with a higher loss at epoch 1 (closer to Gradient Descent and AdaGrad), the rate of loss decrease is significantly better for GD with Nesterov's Momentum and its loss at the end is in the middle between (1) the Adam Optimiser and (2) Gradient Descent/AdaGrad.\n",
        "\n",
        "- AdaGrad has a lower loss in the beginning than Gradient Descent in the beginning and also a higher rate of loss decrease up until epoch 10 where it flattens more for AdaGrad. From there onwards, Gradient Descent performs slightly better from epoch 30 onwards where it overtakes AdaGrad."
      ]
    }
  ]
}