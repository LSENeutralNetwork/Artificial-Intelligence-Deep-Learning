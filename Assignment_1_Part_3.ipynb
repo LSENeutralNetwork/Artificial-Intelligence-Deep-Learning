{
  "nbformat": 4,
  "nbformat_minor": 0,
  "metadata": {
    "colab": {
      "name": "Assignment 1 - Part 3.ipynb",
      "provenance": [],
      "collapsed_sections": [],
      "authorship_tag": "ABX9TyPuPLGB3BysF26S5o8cQ8bn",
      "include_colab_link": true
    },
    "kernelspec": {
      "name": "python3",
      "display_name": "Python 3"
    },
    "accelerator": "GPU"
  },
  "cells": [
    {
      "cell_type": "markdown",
      "metadata": {
        "id": "view-in-github",
        "colab_type": "text"
      },
      "source": [
        "<a href=\"https://colab.research.google.com/github/LSENeutralNetwork/Artificial-Intelligence-Deep-Learning/blob/master/Assignment_1_Part_3.ipynb\" target=\"_parent\"><img src=\"https://colab.research.google.com/assets/colab-badge.svg\" alt=\"Open In Colab\"/></a>"
      ]
    },
    {
      "cell_type": "markdown",
      "metadata": {
        "id": "iqvR5q1BXIRj",
        "colab_type": "text"
      },
      "source": [
        "# Question 3\n",
        "Candidate Number: 43335"
      ]
    },
    {
      "cell_type": "markdown",
      "metadata": {
        "id": "KOShsn4z29Js",
        "colab_type": "text"
      },
      "source": [
        "# 3.1 Load TensorFlow and Libraries"
      ]
    },
    {
      "cell_type": "code",
      "metadata": {
        "id": "W3_QsaTiXHwz",
        "colab_type": "code",
        "colab": {}
      },
      "source": [
        "# Load Correct Version of TensorFlow\n",
        "import tensorflow as tf\n",
        "%tensorflow_version 1.x\n",
        "tf.logging.set_verbosity(tf.logging.INFO)\n",
        "\n",
        "# Load Libraries, Data and Set Seed\n",
        "from keras.datasets import cifar10\n",
        "import numpy as np\n",
        "import matplotlib.pyplot as plt\n",
        "import math\n",
        "np.random.seed(1)"
      ],
      "execution_count": 0,
      "outputs": []
    },
    {
      "cell_type": "markdown",
      "metadata": {
        "id": "6Vt2-pU-XPsO",
        "colab_type": "text"
      },
      "source": [
        "# 3.2 Functions for Normalisation, One-Hot Encoding, Plot Loss, Plot Error\n",
        "\n",
        "\n",
        "Design and implement a convolutional neural network for the CIFAR10 image classification task aiming to achieve a high test accuracy. Evaluate the classification accuracy by reporting top-1 and top-5 test error rates.\n",
        "\n",
        "**Task:** plot the average loss, top-1 error rate and top-5 error rate per epoch versus the number of epochs for the training and the test dataset. Make sure to well describe and justify your network architecture design choices."
      ]
    },
    {
      "cell_type": "code",
      "metadata": {
        "id": "hLNQyWxHXLsq",
        "colab_type": "code",
        "colab": {}
      },
      "source": [
        "def normalize(x):\n",
        "    min_val = np.min(x)\n",
        "    max_val = np.max(x)\n",
        "    x = (x-min_val) / (max_val-min_val)\n",
        "    return x\n",
        "\n",
        "def one_hot_encode(x):\n",
        "    encoded = np.zeros((len(x), 10))\n",
        "\n",
        "    for idx, val in enumerate(x):\n",
        "        encoded[idx][val] = 1\n",
        "\n",
        "    return encoded\n",
        "\n",
        "def plot_loss(losstrain, losstest):\n",
        "    plt.plot(losstrain, label='Training Loss')\n",
        "    plt.plot(losstest, label='Test Loss')\n",
        "    plt.title('Average Training and Test Loss per Epoch')\n",
        "    plt.xlabel('Number of Epoches')\n",
        "    plt.ylabel('Cross Entropy Loss')\n",
        "    plt.legend()\n",
        "    plt.show()\n",
        "\n",
        "def plot_error(errortrain, errortest, top1 = False):\n",
        "    plt.plot(errortrain, label='Training Error')\n",
        "    plt.plot(errortest, label='Test Error')\n",
        "    if top1:\n",
        "      plt.title('Training and Test Top 1 Error per Epoch')\n",
        "    else:\n",
        "      plt.title('Testining and Test Top 5 Error per Epoch')\n",
        "    plt.xlabel('Number of Epoches')\n",
        "    plt.ylabel('Error')\n",
        "    plt.legend()\n",
        "    plt.show()"
      ],
      "execution_count": 0,
      "outputs": []
    },
    {
      "cell_type": "markdown",
      "metadata": {
        "id": "b6t_nZw88-77",
        "colab_type": "text"
      },
      "source": [
        "# 3.3 Function for CNN\n",
        "\n",
        "According to many articles, the VGG-16 model is supposedly one of the best network architectures for this task with the highest test accuracy \n",
        "\n",
        "Source: https://towardsdatascience.com/illustrated-10-cnn-architectures-95d78ace614d#c5a6\n",
        "\n",
        "The VGG-16 Model has the following architecture:\n",
        "- 2 convolutional layers, 1 pool layer\n",
        "- 2 convolutional layers, 1 pool layer\n",
        "- 3 convolutional layers, 1 pool layer\n",
        "- 3 convolutional layers, 1 pool layer\n",
        "- 3 convolutional layers, 1 pool layer\n",
        "- 3 dense layers\n",
        "Source: https://neurohive.io/en/popular-networks/vgg16/ (see references at the end)\n",
        "\n",
        "The final architecture I chose is based on the VGG-16 model but a little bit more simplified with the following specifications:\n",
        "- 2 convolutional layers (with batch normalisation), 1 pool layer, 1 dropout layer (20%)\n",
        "- 3 convolutional layers (with batch normalisation), 1 pool layer, 1 dropout layer (20%)\n",
        "- 1 dense layer, 1 dropout layer (40%)\n",
        "\n",
        "This yielded the highest accuracy (81.5%)\n",
        "\n"
      ]
    },
    {
      "cell_type": "code",
      "metadata": {
        "id": "51z9E4K56bJm",
        "colab_type": "code",
        "colab": {}
      },
      "source": [
        "def classification_cnn(data, training=False):\n",
        "    with tf.variable_scope('classification_cnn', reuse=tf.AUTO_REUSE):\n",
        "        # TensorFlow’s convolutional conv2d operation expects a 4-dimensional tensor\n",
        "        #  with dimensions corresponding to batch, width, height and channel.\n",
        "        inputs = tf.reshape(data, [-1, 32, 32, 3])\n",
        "\n",
        "        # Convolutional Layer 1\n",
        "        conv1 = tf.layers.conv2d(inputs=inputs, filters=32, kernel_size=[5, 5], strides=1, padding=\"same\", activation=tf.nn.relu)\n",
        "        # Batch Normalisation 1\n",
        "        normbatch1 = tf.compat.v1.layers.batch_normalization(inputs=conv1)\n",
        "\n",
        "        # Convolutional Layer 2\n",
        "        conv2 = tf.layers.conv2d(inputs=normbatch1, filters=64, kernel_size=[5, 5], strides=1, padding=\"same\", activation=tf.nn.relu)\n",
        "        # Batch Normalisation 2\n",
        "        normbatch2 = tf.compat.v1.layers.batch_normalization(inputs=conv2)\n",
        "        # Pooling Layer 1\n",
        "        pool1 = tf.layers.max_pooling2d(inputs=normbatch2, pool_size=[2, 2], strides=2)\n",
        "        # Drop Out Layer 1 (20%)\n",
        "        dropout1 = tf.layers.dropout(inputs=pool1, rate=0.2, training=training)\n",
        "\n",
        "        # Convolutional Layer 3\n",
        "        conv3 = tf.layers.conv2d(inputs=dropout1, filters=128, kernel_size=[5, 5], strides=1, padding=\"same\", activation=tf.nn.relu)  \n",
        "        # Batch Normalisation 3\n",
        "        normbatch3 = tf.compat.v1.layers.batch_normalization(inputs=conv3)  \n",
        "\n",
        "        # Convolutional Layer 4\n",
        "        conv4 = tf.layers.conv2d(inputs=normbatch3, filters=128, kernel_size=[5, 5], strides=1, padding=\"same\", activation=tf.nn.relu)    \n",
        "        # Batch Normalisation 4\n",
        "        normbatch4 = tf.compat.v1.layers.batch_normalization(inputs=conv4)  \n",
        "\n",
        "        # Convolutional Layer 5\n",
        "        conv5 = tf.layers.conv2d(inputs=normbatch4, filters=128, kernel_size=[5, 5], strides=1, padding=\"same\", activation=tf.nn.relu)    \n",
        "        # Batch Normalisation 5\n",
        "        normbatch5 = tf.compat.v1.layers.batch_normalization(inputs=conv5)  \n",
        "        # Pooling Layer 2\n",
        "        pool2 = tf.layers.max_pooling2d(inputs=normbatch5, pool_size=[4, 4], strides=4)\n",
        "        # Drop Out Layer 2 (20%)\n",
        "        dropout2 = tf.layers.dropout(inputs=pool2, rate=0.2, training=training)\n",
        "\n",
        "        p3_flat = tf.reshape(dropout2, [-1, 4 * 4 * 128])  # 2048 dims\n",
        "\n",
        "        # Dense Layer\n",
        "        h1 = tf.layers.dense(inputs=p3_flat, units=1000, activation=tf.nn.relu)\n",
        "        # Drop Out Layer 4 (40%)\n",
        "        dropout3 = tf.layers.dropout(inputs=h1, rate=0.4, training=training)\n",
        "\n",
        "        # Output layer\n",
        "        outputs = tf.layers.dense(inputs=dropout3, units=10, activation=None)\n",
        "    return outputs"
      ],
      "execution_count": 0,
      "outputs": []
    },
    {
      "cell_type": "markdown",
      "metadata": {
        "id": "x3w6JoTH-qGH",
        "colab_type": "text"
      },
      "source": [
        "# 3.4 Function for Classification CIFAR-10\n",
        "\n",
        "* Use num_epoches = 100 in this case, but it really is up to us to try out a smaller or larger number of epoches \n",
        "* Normalise training and test data and labels\n",
        "* Use Adam Optimiser as it was the best in the previous two problems"
      ]
    },
    {
      "cell_type": "code",
      "metadata": {
        "id": "rHtKfa1q3Sck",
        "colab_type": "code",
        "colab": {}
      },
      "source": [
        "def CIFAR_classification(num_epoches):\n",
        "\n",
        "  # Load Data\n",
        "  (data_train, label_train), (data_test, label_test) = cifar10.load_data()\n",
        "\n",
        "  # Set Hyper-parameters\n",
        "  x_dim = 3072\n",
        "  num_classes = 10\n",
        "  num_epoches = num_epoches\n",
        "  batch_size = 128\n",
        "  learning_rate = 0.001\n",
        "  n_batches = 50\n",
        "  length_data = len(data_train)\n",
        "  random_idx = np.arange(length_data)\n",
        "\n",
        "  # Normalise Data and One-Hot Encode Labels\n",
        "  norm_training_data = np.asarray([normalize(a) for a in data_train.astype('float32')])\n",
        "  norm_test_data = np.asarray([normalize(a) for a in data_test.astype('float32')])\n",
        "  one_hot_train_labels = np.asarray(one_hot_encode(label_train), np.uint8)\n",
        "  one_hot_test_labels = np.asarray(one_hot_encode(label_test), np.uint8)\n",
        "\n",
        "  # Set Variable Scope\n",
        "  with tf.variable_scope('main', reuse=tf.AUTO_REUSE):\n",
        "    # Set Placeholders\n",
        "    x = tf.placeholder(tf.float32, shape=(None, 32, 32, 3))\n",
        "    y = tf.placeholder(tf.uint8, shape=(None, num_classes))\n",
        "    training = tf.placeholder(tf.bool, shape=[])\n",
        "    # Get Outputs\n",
        "    outputs = classification_cnn(x, training = training)\n",
        "    # Loss Function\n",
        "    loss = tf.reduce_mean(tf.nn.softmax_cross_entropy_with_logits(labels=y, logits=outputs))\n",
        "    \n",
        "    # Optimisers (Adam Optimiser worked the best in P2)\n",
        "    optimiserAdam = tf.train.AdamOptimizer(learning_rate).minimize(loss)\n",
        "\n",
        "    # Predictions\n",
        "    predictions = tf.cast(tf.nn.softmax(outputs), tf.float32)\n",
        "    predictions_idx = tf.argmax(predictions, axis=1)\n",
        "\n",
        "    # Train Metrics: Top 1 Error and Top 5 Error\n",
        "    # Returns Booleans e.g. (pred=label: [True, True, False, True, False])\n",
        "    top_1_train = tf.math.in_top_k(predictions, tf.argmax(y, axis=1), 1)\n",
        "    top_5_train = tf.math.in_top_k(predictions, tf.argmax(y, axis=1), 5)\n",
        "\n",
        "    # Test Metrics: Top 1 Error and Top 5 Error\n",
        "    top_1_test = tf.math.in_top_k(predictions, tf.argmax(y, axis=1), 1)\n",
        "    top_5_test = tf.math.in_top_k(predictions, tf.argmax(y, axis=1), 5)\n",
        "\n",
        "  # Calculating Average Loss, Top 1 Error and Top 5 Error per Epoch for 4 Optimizers\n",
        "\n",
        "  # Track Average Loss, Top 1 Error and Top 5 Error per Epoch for Training\n",
        "  avg_loss_list_train = []\n",
        "  top_1_error_list_train = []\n",
        "  top_5_error_list_train = []\n",
        "  # Track Average Loss, Top 1 Error and Top 5 Error per Epoch for Test\n",
        "  avg_loss_list_test = []\n",
        "  top_1_error_list_test = []\n",
        "  top_5_error_list_test = []\n",
        "\n",
        "  # Adam Optimiser \n",
        "  with tf.Session() as sess:\n",
        "    # Initialise global variables\n",
        "    sess.run(tf.global_variables_initializer())\n",
        "    # Initialise local variables\n",
        "    sess.run(tf.local_variables_initializer())\n",
        "    print(\"Start\")\n",
        "    # Epoch For Loop\n",
        "    for epoch in range(num_epoches):\n",
        "      # Train Data Gets Shuffled at the Start of Each Epoch\n",
        "      np.random.shuffle(random_idx)\n",
        "      traindata = norm_training_data[random_idx]\n",
        "      trainlabels = one_hot_train_labels[random_idx]\n",
        "      # Train Loss, Top 1 Error and Top 5 Error per Batch list\n",
        "      loss_within_epoch_train = []\n",
        "      top_1_error_within_epoch_train = []\n",
        "      top_5_error_within_epoch_train = []\n",
        "      \n",
        "      # Minibatch For Loop\n",
        "      for minibatch in range(n_batches):\n",
        "        batch_x = traindata[minibatch * batch_size:(minibatch + 1) * batch_size]\n",
        "        batch_y = trainlabels[minibatch * batch_size:(minibatch + 1) * batch_size]\n",
        "        _, l_train, top1train, top5train = sess.run([optimiserAdam, loss, top_1_train, top_5_train], feed_dict={x: batch_x, y: batch_y, training: True})\n",
        "        # Append Train Loss in Batch\n",
        "        loss_within_epoch_train.append(l_train)\n",
        "        # Calculate Top 1 Error and Top 5 Error (Length Batch - Correct Predictions / Length Batch = Errors per Batch)\n",
        "        top_1_error_batch_train = (len(batch_y) - np.sum(top1train)) / len(batch_y)\n",
        "        top_5_error_batch_train = (len(batch_y) - np.sum(top5train)) / len(batch_y)\n",
        "        # Append Train Top 1 Error and Top 5 Error in Batch\n",
        "        top_1_error_within_epoch_train.append(top_1_error_batch_train)\n",
        "        top_5_error_within_epoch_train.append(top_5_error_batch_train)\n",
        "\n",
        "      # Append Train Loss, Top 1 Error and Top 5 Error per Epoch   \n",
        "      avg_loss_list_train.append(np.mean(loss_within_epoch_train))\n",
        "      top_1_error_list_train.append(np.mean(top_1_error_within_epoch_train))\n",
        "      top_5_error_list_train.append(np.mean(top_5_error_within_epoch_train))\n",
        "\n",
        "      # Append Test Loss, Top 1 Error and Top 5 Error per Epoch \n",
        "      l_test, top1test, top5test = sess.run([loss, top_1_test, top_5_test], feed_dict={x: norm_test_data, y: one_hot_test_labels, training: False})\n",
        "      avg_loss_list_test.append(l_test)\n",
        "      top_1_error_test = (len(label_test) - np.sum(top1test)) / len(label_test)\n",
        "      top_5_error_test = (len(label_test) - np.sum(top5test)) / len(label_test)\n",
        "      top_1_error_list_test.append(top_1_error_test)\n",
        "      top_5_error_list_test.append(top_5_error_test)\n",
        "\n",
        "      # Print per 10 Epoches: Loss, Top 1 Error and Top 5 Error\n",
        "      if ((epoch+1) % 10 == 0):\n",
        "        print(\"Train epoch:\", (epoch + 1), \"loss =\", \"{:.3f}\".format(np.mean(loss_within_epoch_train))\n",
        "            , \"top-1 error rate  =\", \"{:.3f}\".format(np.mean(top_1_error_batch_train))\n",
        "            , \"top-5 error rate  =\", \"{:.3f}\".format(np.mean(top_5_error_batch_train)))\n",
        "      \n",
        "        print(\"Test epoch:\", (epoch + 1), \"loss =\", \"{:.3f}\".format(l_test)\n",
        "            , \"top-1 error rate  =\", \"{:.3f}\".format(top_1_error_test)\n",
        "            , \"top-5 error rate  =\", \"{:.3f}\".format(top_5_error_test))\n",
        "      # Calculate test accuracy at the last epoch (= epoch 100) using top 1 error\n",
        "      if ((epoch+1) % 100 == 0):\n",
        "        acc = 1-top_1_error_test\n",
        "\n",
        "  return acc, avg_loss_list_train, avg_loss_list_test, top_1_error_list_train, top_1_error_list_test, top_5_error_list_train, top_5_error_list_test"
      ],
      "execution_count": 0,
      "outputs": []
    },
    {
      "cell_type": "code",
      "metadata": {
        "id": "SHGSJJvuBR9e",
        "colab_type": "code",
        "colab": {}
      },
      "source": [
        ""
      ],
      "execution_count": 0,
      "outputs": []
    },
    {
      "cell_type": "markdown",
      "metadata": {
        "id": "KH_C86HYBSaq",
        "colab_type": "text"
      },
      "source": [
        "# 3.5 Final Architecture: Simplified 5-layer VGG-16 CNN Model with Batch Normalisation and Dropout\n",
        "\n",
        "* Test accuracy based on top 1 error rate: 0.815"
      ]
    },
    {
      "cell_type": "code",
      "metadata": {
        "id": "xlBj_l_jPIoY",
        "colab_type": "code",
        "outputId": "4166bffc-5a65-440a-bee1-fc90f6bc0484",
        "colab": {
          "base_uri": "https://localhost:8080/",
          "height": 391
        }
      },
      "source": [
        "accuracy, loss_train, loss_test, top_1_train, top_1_test, top_5_train, top_5_test = CIFAR_classification(100)\n",
        "print(\"Simple VGG16 CNN Model with Batch Normalisation has accuracy:\", accuracy)"
      ],
      "execution_count": 0,
      "outputs": [
        {
          "output_type": "stream",
          "text": [
            "Start\n",
            "Train epoch: 10 loss = 0.944 top-1 error rate  = 0.289 top-5 error rate  = 0.039\n",
            "Test epoch: 10 loss = 0.932 top-1 error rate  = 0.331 top-5 error rate  = 0.027\n",
            "Train epoch: 20 loss = 0.636 top-1 error rate  = 0.219 top-5 error rate  = 0.008\n",
            "Test epoch: 20 loss = 0.733 top-1 error rate  = 0.260 top-5 error rate  = 0.016\n",
            "Train epoch: 30 loss = 0.487 top-1 error rate  = 0.172 top-5 error rate  = 0.016\n",
            "Test epoch: 30 loss = 0.641 top-1 error rate  = 0.218 top-5 error rate  = 0.012\n",
            "Train epoch: 40 loss = 0.397 top-1 error rate  = 0.125 top-5 error rate  = 0.008\n",
            "Test epoch: 40 loss = 0.703 top-1 error rate  = 0.221 top-5 error rate  = 0.014\n",
            "Train epoch: 50 loss = 0.311 top-1 error rate  = 0.094 top-5 error rate  = 0.000\n",
            "Test epoch: 50 loss = 0.630 top-1 error rate  = 0.192 top-5 error rate  = 0.013\n",
            "Train epoch: 60 loss = 0.273 top-1 error rate  = 0.117 top-5 error rate  = 0.000\n",
            "Test epoch: 60 loss = 0.671 top-1 error rate  = 0.204 top-5 error rate  = 0.013\n",
            "Train epoch: 70 loss = 0.213 top-1 error rate  = 0.102 top-5 error rate  = 0.000\n",
            "Test epoch: 70 loss = 0.674 top-1 error rate  = 0.193 top-5 error rate  = 0.012\n",
            "Train epoch: 80 loss = 0.220 top-1 error rate  = 0.109 top-5 error rate  = 0.000\n",
            "Test epoch: 80 loss = 0.657 top-1 error rate  = 0.184 top-5 error rate  = 0.012\n",
            "Train epoch: 90 loss = 0.204 top-1 error rate  = 0.078 top-5 error rate  = 0.000\n",
            "Test epoch: 90 loss = 0.656 top-1 error rate  = 0.183 top-5 error rate  = 0.012\n",
            "Train epoch: 100 loss = 0.158 top-1 error rate  = 0.023 top-5 error rate  = 0.000\n",
            "Test epoch: 100 loss = 0.733 top-1 error rate  = 0.185 top-5 error rate  = 0.012\n",
            "Simple VGG16 CNN Model with Batch Normalisation has accuracy: 0.815\n"
          ],
          "name": "stdout"
        }
      ]
    },
    {
      "cell_type": "markdown",
      "metadata": {
        "id": "WwuwxzbJBroM",
        "colab_type": "text"
      },
      "source": [
        "# 3.6 Plot Loss, Top 1 Error and Top 5 Error"
      ]
    },
    {
      "cell_type": "code",
      "metadata": {
        "id": "ScVyBR1uOhF4",
        "colab_type": "code",
        "outputId": "22f70f72-4155-42f1-a0fa-1da219d3af35",
        "colab": {
          "base_uri": "https://localhost:8080/",
          "height": 295
        }
      },
      "source": [
        "# Plot Loss\n",
        "plot_loss(loss_train, loss_test)"
      ],
      "execution_count": 0,
      "outputs": [
        {
          "output_type": "display_data",
          "data": {
            "image/png": "[encoded data removed]",
            "text/plain": [
              "<Figure size 432x288 with 1 Axes>"
            ]
          },
          "metadata": {
            "tags": []
          }
        }
      ]
    },
    {
      "cell_type": "code",
      "metadata": {
        "id": "3RxLAuVKO5Fl",
        "colab_type": "code",
        "outputId": "29b1258d-44b0-4238-c569-d1ee5488ab37",
        "colab": {
          "base_uri": "https://localhost:8080/",
          "height": 295
        }
      },
      "source": [
        "# Plot Top 1 Error\n",
        "plot_error(top_1_train, top_1_test, top1=True)"
      ],
      "execution_count": 0,
      "outputs": [
        {
          "output_type": "display_data",
          "data": {
            "image/png": "[encoded data removed]",
            "text/plain": [
              "<Figure size 432x288 with 1 Axes>"
            ]
          },
          "metadata": {
            "tags": []
          }
        }
      ]
    },
    {
      "cell_type": "code",
      "metadata": {
        "id": "2u3I7SOgO5mv",
        "colab_type": "code",
        "outputId": "16581f4a-b68e-44d8-9f2e-4ca06601c7ba",
        "colab": {
          "base_uri": "https://localhost:8080/",
          "height": 295
        }
      },
      "source": [
        "# Plot Top 5 Error\n",
        "plot_error(top_5_train, top_5_test, top1=False)"
      ],
      "execution_count": 0,
      "outputs": [
        {
          "output_type": "display_data",
          "data": {
            "image/png": "[encoded data removed]",
            "text/plain": [
              "<Figure size 432x288 with 1 Axes>"
            ]
          },
          "metadata": {
            "tags": []
          }
        }
      ]
    },
    {
      "cell_type": "markdown",
      "metadata": {
        "id": "qAC1YTQoIqf4",
        "colab_type": "text"
      },
      "source": [
        "**Discussion:**\n",
        "\n",
        "* Final Test Accuracy: 81.5%\n",
        "* At Epoch = 100: \n",
        "  - Test loss = 0.733\n",
        "  - Test Top 1 Error Rate = 0.185\n",
        "  - Test Top 5 Error Rate = 0.012\n",
        "\n",
        "* As expected, training loss and training errors keep decreasing with more epochs being ran (it converges to 0 for top 5 error rate around epoch 50). \n",
        "\n",
        "* However, test loss flattens out around epoch 50 and even slightly increases here and there (partly random / noise as other times I ran the this model, it just flattened out).\n",
        "\n",
        "* Basically the optimal values for test loss, top 1 error rate and top 5 error rate seemed to have be reached around epoch 50 due to the flattening rate of decrease. Hence, running more epoches would probably not have improved the outcome."
      ]
    },
    {
      "cell_type": "markdown",
      "metadata": {
        "id": "BnXjue5LByug",
        "colab_type": "text"
      },
      "source": [
        "# 3.7 Other Architectures (with lower test accuracy)"
      ]
    },
    {
      "cell_type": "markdown",
      "metadata": {
        "id": "Oh5LkpuJ5Sn-",
        "colab_type": "text"
      },
      "source": [
        "#### #1 Network Architecture: Standard 2-layer Network\n",
        "* Accuracy based on top 1 error rate: 0.7608\n",
        "\n",
        "\n",
        "This is the network I started with, just 2 convolutional layers, 1 dropout layer without any batch normalisation."
      ]
    },
    {
      "cell_type": "code",
      "metadata": {
        "id": "wrL1OV3xAH1t",
        "colab_type": "code",
        "outputId": "54d54617-2073-4779-cc8e-47d627e80d7f",
        "colab": {
          "base_uri": "https://localhost:8080/",
          "height": 391
        }
      },
      "source": [
        "model_standard = CIFAR_classification(100)\n",
        "print(\"Standard CNN has accuracy:\", model_standard)"
      ],
      "execution_count": 0,
      "outputs": [
        {
          "output_type": "stream",
          "text": [
            "Start\n",
            "Train epoch: 10 loss = 1.235 top-1 error rate  = 0.461 top-5 error rate  = 0.062\n",
            "Test epoch: 10 loss = 1.184 top-1 error rate  = 0.424 top-5 error rate  = 0.046\n",
            "Train epoch: 20 loss = 0.957 top-1 error rate  = 0.250 top-5 error rate  = 0.023\n",
            "Test epoch: 20 loss = 0.913 top-1 error rate  = 0.322 top-5 error rate  = 0.026\n",
            "Train epoch: 30 loss = 0.824 top-1 error rate  = 0.281 top-5 error rate  = 0.008\n",
            "Test epoch: 30 loss = 0.867 top-1 error rate  = 0.303 top-5 error rate  = 0.024\n",
            "Train epoch: 40 loss = 0.712 top-1 error rate  = 0.258 top-5 error rate  = 0.016\n",
            "Test epoch: 40 loss = 0.786 top-1 error rate  = 0.272 top-5 error rate  = 0.019\n",
            "Train epoch: 50 loss = 0.670 top-1 error rate  = 0.219 top-5 error rate  = 0.016\n",
            "Test epoch: 50 loss = 0.747 top-1 error rate  = 0.258 top-5 error rate  = 0.019\n",
            "Train epoch: 60 loss = 0.607 top-1 error rate  = 0.172 top-5 error rate  = 0.000\n",
            "Test epoch: 60 loss = 0.714 top-1 error rate  = 0.246 top-5 error rate  = 0.015\n",
            "Train epoch: 70 loss = 0.537 top-1 error rate  = 0.203 top-5 error rate  = 0.016\n",
            "Test epoch: 70 loss = 0.694 top-1 error rate  = 0.238 top-5 error rate  = 0.016\n",
            "Train epoch: 80 loss = 0.505 top-1 error rate  = 0.188 top-5 error rate  = 0.000\n",
            "Test epoch: 80 loss = 0.701 top-1 error rate  = 0.236 top-5 error rate  = 0.016\n",
            "Train epoch: 90 loss = 0.456 top-1 error rate  = 0.211 top-5 error rate  = 0.000\n",
            "Test epoch: 90 loss = 0.684 top-1 error rate  = 0.226 top-5 error rate  = 0.016\n",
            "Train epoch: 100 loss = 0.447 top-1 error rate  = 0.164 top-5 error rate  = 0.000\n",
            "Test epoch: 100 loss = 0.723 top-1 error rate  = 0.239 top-5 error rate  = 0.017\n",
            "Standard CNN has accuracy: 0.7608\n"
          ],
          "name": "stdout"
        }
      ]
    },
    {
      "cell_type": "markdown",
      "metadata": {
        "id": "k-0lOUf14iYW",
        "colab_type": "text"
      },
      "source": [
        "#### #2 Network Architecture: 3-layer Network without Dropout\n",
        "\n",
        "* Accuracy based on top 1 error rate: 0.7724\n",
        "\n",
        "Using a 3-layer network (3 conv layers, 3 pool layers, 1 dense layer) without dropout performed better than #7 Network Architecture --> after this I saw the article on good network architectures and decided to try a version of VGG (#3)"
      ]
    },
    {
      "cell_type": "code",
      "metadata": {
        "id": "Knde4TZE7466",
        "colab_type": "code",
        "outputId": "bce7dbef-683a-4217-936e-bb0078bf458e",
        "colab": {
          "base_uri": "https://localhost:8080/",
          "height": 391
        }
      },
      "source": [
        "model_nodropout = CIFAR_classification(100)\n",
        "print(\"CNN without Drop Out has accuracy:\", model_nodropout)"
      ],
      "execution_count": 0,
      "outputs": [
        {
          "output_type": "stream",
          "text": [
            "Start\n",
            "Train epoch: 10 loss = 1.062 top-1 error rate  = 0.336 top-5 error rate  = 0.039\n",
            "Test epoch: 10 loss = 1.036 top-1 error rate  = 0.369 top-5 error rate  = 0.036\n",
            "Train epoch: 20 loss = 0.803 top-1 error rate  = 0.289 top-5 error rate  = 0.047\n",
            "Test epoch: 20 loss = 0.875 top-1 error rate  = 0.302 top-5 error rate  = 0.026\n",
            "Train epoch: 30 loss = 0.679 top-1 error rate  = 0.266 top-5 error rate  = 0.023\n",
            "Test epoch: 30 loss = 0.820 top-1 error rate  = 0.281 top-5 error rate  = 0.024\n",
            "Train epoch: 40 loss = 0.597 top-1 error rate  = 0.234 top-5 error rate  = 0.000\n",
            "Test epoch: 40 loss = 0.776 top-1 error rate  = 0.267 top-5 error rate  = 0.020\n",
            "Train epoch: 50 loss = 0.478 top-1 error rate  = 0.203 top-5 error rate  = 0.008\n",
            "Test epoch: 50 loss = 0.738 top-1 error rate  = 0.242 top-5 error rate  = 0.017\n",
            "Train epoch: 60 loss = 0.461 top-1 error rate  = 0.203 top-5 error rate  = 0.016\n",
            "Test epoch: 60 loss = 0.762 top-1 error rate  = 0.241 top-5 error rate  = 0.016\n",
            "Train epoch: 70 loss = 0.404 top-1 error rate  = 0.172 top-5 error rate  = 0.000\n",
            "Test epoch: 70 loss = 0.778 top-1 error rate  = 0.238 top-5 error rate  = 0.017\n",
            "Train epoch: 80 loss = 0.402 top-1 error rate  = 0.227 top-5 error rate  = 0.000\n",
            "Test epoch: 80 loss = 0.758 top-1 error rate  = 0.234 top-5 error rate  = 0.018\n",
            "Train epoch: 90 loss = 0.320 top-1 error rate  = 0.133 top-5 error rate  = 0.016\n",
            "Test epoch: 90 loss = 0.804 top-1 error rate  = 0.233 top-5 error rate  = 0.020\n",
            "Train epoch: 100 loss = 0.327 top-1 error rate  = 0.164 top-5 error rate  = 0.000\n",
            "Test epoch: 100 loss = 0.756 top-1 error rate  = 0.228 top-5 error rate  = 0.017\n",
            "CNN without Drop Out has accuracy: 0.7724\n"
          ],
          "name": "stdout"
        }
      ]
    },
    {
      "cell_type": "markdown",
      "metadata": {
        "id": "bEgAPqXl46PE",
        "colab_type": "text"
      },
      "source": [
        "#### #3 Network Architecture: 4-layer VGG Network without Dropout\n",
        "\n",
        "* Accuracy based on top 1 error rate: 0.7853\n",
        "\n",
        "A 4-layer VGG Network without Dropout I tried with the following specifications: 4 conv layers, 2 pooling layers, 1 dense layer.\n",
        "\n",
        "The accuracy wasn't as good as I thought it would be so I changed back to a 3-layer standard CNN (the one we did in class) but then added batch normalisation after each convolutional layer (see #4)"
      ]
    },
    {
      "cell_type": "code",
      "metadata": {
        "id": "ZU7cltFFIXyK",
        "colab_type": "code",
        "outputId": "630b4404-a3a5-4fac-af25-f753f14fd93a",
        "colab": {
          "base_uri": "https://localhost:8080/",
          "height": 391
        }
      },
      "source": [
        "model_VGG = CIFAR_classification(100)\n",
        "print(\"VGG CNN Model has accuracy:\", model_VGG)"
      ],
      "execution_count": 0,
      "outputs": [
        {
          "output_type": "stream",
          "text": [
            "Start\n",
            "Train epoch: 10 loss = 1.298 top-1 error rate  = 0.430 top-5 error rate  = 0.109\n",
            "Test epoch: 10 loss = 1.207 top-1 error rate  = 0.432 top-5 error rate  = 0.049\n",
            "Train epoch: 20 loss = 1.056 top-1 error rate  = 0.320 top-5 error rate  = 0.055\n",
            "Test epoch: 20 loss = 0.941 top-1 error rate  = 0.331 top-5 error rate  = 0.032\n",
            "Train epoch: 30 loss = 0.864 top-1 error rate  = 0.227 top-5 error rate  = 0.023\n",
            "Test epoch: 30 loss = 0.848 top-1 error rate  = 0.293 top-5 error rate  = 0.026\n",
            "Train epoch: 40 loss = 0.775 top-1 error rate  = 0.352 top-5 error rate  = 0.023\n",
            "Test epoch: 40 loss = 0.806 top-1 error rate  = 0.275 top-5 error rate  = 0.022\n",
            "Train epoch: 50 loss = 0.698 top-1 error rate  = 0.211 top-5 error rate  = 0.000\n",
            "Test epoch: 50 loss = 0.730 top-1 error rate  = 0.253 top-5 error rate  = 0.017\n",
            "Train epoch: 60 loss = 0.667 top-1 error rate  = 0.219 top-5 error rate  = 0.008\n",
            "Test epoch: 60 loss = 0.703 top-1 error rate  = 0.242 top-5 error rate  = 0.017\n",
            "Train epoch: 70 loss = 0.629 top-1 error rate  = 0.219 top-5 error rate  = 0.008\n",
            "Test epoch: 70 loss = 0.686 top-1 error rate  = 0.235 top-5 error rate  = 0.015\n",
            "Train epoch: 80 loss = 0.592 top-1 error rate  = 0.172 top-5 error rate  = 0.016\n",
            "Test epoch: 80 loss = 0.672 top-1 error rate  = 0.229 top-5 error rate  = 0.015\n",
            "Train epoch: 90 loss = 0.591 top-1 error rate  = 0.219 top-5 error rate  = 0.016\n",
            "Test epoch: 90 loss = 0.657 top-1 error rate  = 0.226 top-5 error rate  = 0.013\n",
            "Train epoch: 100 loss = 0.544 top-1 error rate  = 0.141 top-5 error rate  = 0.008\n",
            "Test epoch: 100 loss = 0.634 top-1 error rate  = 0.215 top-5 error rate  = 0.013\n",
            "VGG CNN Model has accuracy: 0.7853\n"
          ],
          "name": "stdout"
        }
      ]
    },
    {
      "cell_type": "markdown",
      "metadata": {
        "id": "nYa1Lwro4WFR",
        "colab_type": "text"
      },
      "source": [
        "#### #4 Network Architecture: 3-layer Network with Batch Normalisation\n",
        "\n",
        "* Accuracy based on top 1 error rate: 0.7879\n",
        "\n",
        "Using Batch Normalisation after each convolution layer, I got the following specifications: 3 convolutional layers, 3 batch normalisations, 3 pooling layers, 1 dense layer, 4 dropout layers).\n",
        "\n",
        "Accuracy improved so I wanted to try the batch normalisation on the 4-layer VGG model (#5)\n"
      ]
    },
    {
      "cell_type": "code",
      "metadata": {
        "id": "F1QzHpXk36ZK",
        "colab_type": "code",
        "outputId": "1305c62c-4bf3-4aee-9330-39d88027bc48",
        "colab": {
          "base_uri": "https://localhost:8080/",
          "height": 391
        }
      },
      "source": [
        "model_batchnorm = CIFAR_classification(100)\n",
        "print(\"Batch Normalisation CNN has accuracy:\", model_batchnorm)"
      ],
      "execution_count": 0,
      "outputs": [
        {
          "output_type": "stream",
          "text": [
            "Start\n",
            "Train epoch: 10 loss = 1.087 top-1 error rate  = 0.391 top-5 error rate  = 0.023\n",
            "Test epoch: 10 loss = 1.123 top-1 error rate  = 0.402 top-5 error rate  = 0.040\n",
            "Train epoch: 20 loss = 0.812 top-1 error rate  = 0.242 top-5 error rate  = 0.000\n",
            "Test epoch: 20 loss = 0.890 top-1 error rate  = 0.309 top-5 error rate  = 0.023\n",
            "Train epoch: 30 loss = 0.685 top-1 error rate  = 0.320 top-5 error rate  = 0.016\n",
            "Test epoch: 30 loss = 0.825 top-1 error rate  = 0.282 top-5 error rate  = 0.023\n",
            "Train epoch: 40 loss = 0.574 top-1 error rate  = 0.141 top-5 error rate  = 0.008\n",
            "Test epoch: 40 loss = 0.759 top-1 error rate  = 0.257 top-5 error rate  = 0.020\n",
            "Train epoch: 50 loss = 0.515 top-1 error rate  = 0.195 top-5 error rate  = 0.008\n",
            "Test epoch: 50 loss = 0.693 top-1 error rate  = 0.232 top-5 error rate  = 0.015\n",
            "Train epoch: 60 loss = 0.448 top-1 error rate  = 0.164 top-5 error rate  = 0.000\n",
            "Test epoch: 60 loss = 0.702 top-1 error rate  = 0.227 top-5 error rate  = 0.017\n",
            "Train epoch: 70 loss = 0.384 top-1 error rate  = 0.141 top-5 error rate  = 0.000\n",
            "Test epoch: 70 loss = 0.719 top-1 error rate  = 0.224 top-5 error rate  = 0.016\n",
            "Train epoch: 80 loss = 0.367 top-1 error rate  = 0.141 top-5 error rate  = 0.000\n",
            "Test epoch: 80 loss = 0.736 top-1 error rate  = 0.220 top-5 error rate  = 0.015\n",
            "Train epoch: 90 loss = 0.332 top-1 error rate  = 0.141 top-5 error rate  = 0.000\n",
            "Test epoch: 90 loss = 0.709 top-1 error rate  = 0.214 top-5 error rate  = 0.015\n",
            "Train epoch: 100 loss = 0.309 top-1 error rate  = 0.078 top-5 error rate  = 0.000\n",
            "Test epoch: 100 loss = 0.726 top-1 error rate  = 0.212 top-5 error rate  = 0.016\n",
            "Batch Normalisation CNN has accuracy: 0.7879\n"
          ],
          "name": "stdout"
        }
      ]
    },
    {
      "cell_type": "markdown",
      "metadata": {
        "id": "5Kdixxhf3_C1",
        "colab_type": "text"
      },
      "source": [
        "#### #5 Network Architecture: 4-layer VGG Network with Batch Normalisation and Dropout Layers (dropout1: 30%, dropout2: 30%, dropout3: 40%)\n",
        "\n",
        "* Accuracy based on top 1 error rate: 0.8005\n",
        "\n",
        "Using Batch Normalisation and Dropout Layers significantly improved the test accuracy from 78% to 80% --> see #3).\n",
        "\n",
        "Therefore, I wanted to check any differences with dropout %.\n",
        "\n"
      ]
    },
    {
      "cell_type": "code",
      "metadata": {
        "id": "E7hoeKdBClFM",
        "colab_type": "code",
        "outputId": "0fc9e305-870e-41e9-8c33-0460529b7a91",
        "colab": {
          "base_uri": "https://localhost:8080/",
          "height": 391
        }
      },
      "source": [
        "model_VGG_batchnorm = CIFAR_classification(100)\n",
        "print(\"VGG CNN Model with Batch Normalisation has accuracy:\", model_VGG_batchnorm)"
      ],
      "execution_count": 0,
      "outputs": [
        {
          "output_type": "stream",
          "text": [
            "Start\n",
            "Train epoch: 10 loss = 1.233 top-1 error rate  = 0.547 top-5 error rate  = 0.055\n",
            "Test epoch: 10 loss = 1.117 top-1 error rate  = 0.403 top-5 error rate  = 0.041\n",
            "Train epoch: 20 loss = 0.947 top-1 error rate  = 0.367 top-5 error rate  = 0.023\n",
            "Test epoch: 20 loss = 0.870 top-1 error rate  = 0.303 top-5 error rate  = 0.025\n",
            "Train epoch: 30 loss = 0.806 top-1 error rate  = 0.305 top-5 error rate  = 0.023\n",
            "Test epoch: 30 loss = 0.740 top-1 error rate  = 0.255 top-5 error rate  = 0.018\n",
            "Train epoch: 40 loss = 0.719 top-1 error rate  = 0.242 top-5 error rate  = 0.016\n",
            "Test epoch: 40 loss = 0.711 top-1 error rate  = 0.245 top-5 error rate  = 0.017\n",
            "Train epoch: 50 loss = 0.682 top-1 error rate  = 0.250 top-5 error rate  = 0.000\n",
            "Test epoch: 50 loss = 0.686 top-1 error rate  = 0.237 top-5 error rate  = 0.016\n",
            "Train epoch: 60 loss = 0.607 top-1 error rate  = 0.180 top-5 error rate  = 0.016\n",
            "Test epoch: 60 loss = 0.649 top-1 error rate  = 0.221 top-5 error rate  = 0.015\n",
            "Train epoch: 70 loss = 0.573 top-1 error rate  = 0.266 top-5 error rate  = 0.008\n",
            "Test epoch: 70 loss = 0.606 top-1 error rate  = 0.206 top-5 error rate  = 0.013\n",
            "Train epoch: 80 loss = 0.546 top-1 error rate  = 0.195 top-5 error rate  = 0.016\n",
            "Test epoch: 80 loss = 0.606 top-1 error rate  = 0.206 top-5 error rate  = 0.013\n",
            "Train epoch: 90 loss = 0.540 top-1 error rate  = 0.203 top-5 error rate  = 0.016\n",
            "Test epoch: 90 loss = 0.595 top-1 error rate  = 0.203 top-5 error rate  = 0.011\n",
            "Train epoch: 100 loss = 0.504 top-1 error rate  = 0.180 top-5 error rate  = 0.000\n",
            "Test epoch: 100 loss = 0.588 top-1 error rate  = 0.200 top-5 error rate  = 0.012\n",
            "VGG CNN Model with Batch Normalisation has accuracy: 0.8005\n"
          ],
          "name": "stdout"
        }
      ]
    },
    {
      "cell_type": "markdown",
      "metadata": {
        "id": "yUtrp9zP3pu2",
        "colab_type": "text"
      },
      "source": [
        "#### #6 Network Architecture: 4-layer VGG Network with Batch Normalisation and Dropout Layers (dropout1: 20%, dropout2: 20%, dropout3: 40%)\n",
        "\n",
        "* Accuracy based on top 1 error rate: 0.8064\n",
        "\n",
        "Trying out the different dropout %, it improved test accuracy a little bit. For the final model, I decided to add another layer for the VGG Network, closely resembling the true VGG-16 network architecture."
      ]
    },
    {
      "cell_type": "code",
      "metadata": {
        "id": "FRyffsp8KuOZ",
        "colab_type": "code",
        "outputId": "0cdedb69-c3c7-4c2b-9384-05f977258405",
        "colab": {
          "base_uri": "https://localhost:8080/",
          "height": 391
        }
      },
      "source": [
        "model_VGG_batchnorm = CIFAR_classification(100)\n",
        "print(\"VGG CNN Model with Batch Normalisation has accuracy:\", model_VGG_batchnorm)"
      ],
      "execution_count": 0,
      "outputs": [
        {
          "output_type": "stream",
          "text": [
            "Start\n",
            "Train epoch: 10 loss = 0.976 top-1 error rate  = 0.445 top-5 error rate  = 0.062\n",
            "Test epoch: 10 loss = 1.024 top-1 error rate  = 0.359 top-5 error rate  = 0.036\n",
            "Train epoch: 20 loss = 0.675 top-1 error rate  = 0.258 top-5 error rate  = 0.016\n",
            "Test epoch: 20 loss = 0.734 top-1 error rate  = 0.249 top-5 error rate  = 0.018\n",
            "Train epoch: 30 loss = 0.491 top-1 error rate  = 0.180 top-5 error rate  = 0.000\n",
            "Test epoch: 30 loss = 0.682 top-1 error rate  = 0.230 top-5 error rate  = 0.015\n",
            "Train epoch: 40 loss = 0.420 top-1 error rate  = 0.109 top-5 error rate  = 0.008\n",
            "Test epoch: 40 loss = 0.657 top-1 error rate  = 0.217 top-5 error rate  = 0.014\n",
            "Train epoch: 50 loss = 0.345 top-1 error rate  = 0.164 top-5 error rate  = 0.000\n",
            "Test epoch: 50 loss = 0.679 top-1 error rate  = 0.211 top-5 error rate  = 0.014\n",
            "Train epoch: 60 loss = 0.280 top-1 error rate  = 0.062 top-5 error rate  = 0.000\n",
            "Test epoch: 60 loss = 0.688 top-1 error rate  = 0.207 top-5 error rate  = 0.014\n",
            "Train epoch: 70 loss = 0.240 top-1 error rate  = 0.109 top-5 error rate  = 0.000\n",
            "Test epoch: 70 loss = 0.695 top-1 error rate  = 0.193 top-5 error rate  = 0.013\n",
            "Train epoch: 80 loss = 0.216 top-1 error rate  = 0.039 top-5 error rate  = 0.000\n",
            "Test epoch: 80 loss = 0.691 top-1 error rate  = 0.197 top-5 error rate  = 0.012\n",
            "Train epoch: 90 loss = 0.202 top-1 error rate  = 0.086 top-5 error rate  = 0.000\n",
            "Test epoch: 90 loss = 0.713 top-1 error rate  = 0.193 top-5 error rate  = 0.012\n",
            "Train epoch: 100 loss = 0.202 top-1 error rate  = 0.055 top-5 error rate  = 0.000\n",
            "Test epoch: 100 loss = 0.734 top-1 error rate  = 0.194 top-5 error rate  = 0.013\n",
            "VGG CNN Model with Batch Normalisation has accuracy: 0.8064\n"
          ],
          "name": "stdout"
        }
      ]
    },
    {
      "cell_type": "markdown",
      "metadata": {
        "id": "0Ny0Gc_87aNv",
        "colab_type": "text"
      },
      "source": [
        "# 3.8 References\n",
        "\n",
        "P1:\n",
        "1. SoftMax Regression: https://www.geeksforgeeks.org/softmax-regression-using-tensorflow/\n",
        "2. Batch Training: https://gluon.mxnet.io/chapter02_supervised-learning/softmax-regression-scratch.html\n",
        "3. Optimisers: https://ruder.io/optimizing-gradient-descent/\n",
        "\n",
        "P2 & P3\n",
        "4. CIFAR-10 Classification & Normalisation Function: https://towardsdatascience.com/cifar-10-image-classification-in-tensorflow-5b501f7dc77c\n",
        "5. Different Architectures: https://towardsdatascience.com/illustrated-10-cnn-architectures-95d78ace614d#c5a6\n",
        "6. VGG-16 Model Inspiration: https://neurohive.io/en/popular-networks/vgg16/\n",
        "7. CIFAR-10 Classification Architecture: https://machinelearningmastery.com/how-to-develop-a-cnn-from-scratch-for-cifar-10-photo-classification/\n",
        "\n"
      ]
    }
  ]
}